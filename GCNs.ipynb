{
 "cells": [
  {
   "cell_type": "code",
   "execution_count": 1,
   "id": "29e4b891",
   "metadata": {},
   "outputs": [
    {
     "name": "stdout",
     "output_type": "stream",
     "text": [
      "Requirement already satisfied: torch-geometric in c:\\users\\hp\\anaconda3\\envs\\data-science\\lib\\site-packages (2.6.1)\n",
      "Requirement already satisfied: aiohttp in c:\\users\\hp\\anaconda3\\envs\\data-science\\lib\\site-packages (from torch-geometric) (3.11.10)\n",
      "Requirement already satisfied: fsspec in c:\\users\\hp\\anaconda3\\envs\\data-science\\lib\\site-packages (from torch-geometric) (2023.10.0)\n",
      "Requirement already satisfied: jinja2 in c:\\users\\hp\\anaconda3\\envs\\data-science\\lib\\site-packages (from torch-geometric) (3.1.5)\n",
      "Requirement already satisfied: numpy in c:\\users\\hp\\anaconda3\\envs\\data-science\\lib\\site-packages (from torch-geometric) (1.26.4)\n",
      "Requirement already satisfied: psutil>=5.8.0 in c:\\users\\hp\\anaconda3\\envs\\data-science\\lib\\site-packages (from torch-geometric) (5.9.0)\n",
      "Requirement already satisfied: pyparsing in c:\\users\\hp\\anaconda3\\envs\\data-science\\lib\\site-packages (from torch-geometric) (3.2.0)\n",
      "Requirement already satisfied: requests in c:\\users\\hp\\anaconda3\\envs\\data-science\\lib\\site-packages (from torch-geometric) (2.32.3)\n",
      "Requirement already satisfied: tqdm in c:\\users\\hp\\anaconda3\\envs\\data-science\\lib\\site-packages (from torch-geometric) (4.67.1)\n",
      "Requirement already satisfied: aiohappyeyeballs>=2.3.0 in c:\\users\\hp\\anaconda3\\envs\\data-science\\lib\\site-packages (from aiohttp->torch-geometric) (2.4.4)\n",
      "Requirement already satisfied: aiosignal>=1.1.2 in c:\\users\\hp\\anaconda3\\envs\\data-science\\lib\\site-packages (from aiohttp->torch-geometric) (1.2.0)\n",
      "Requirement already satisfied: attrs>=17.3.0 in c:\\users\\hp\\anaconda3\\envs\\data-science\\lib\\site-packages (from aiohttp->torch-geometric) (24.3.0)\n",
      "Requirement already satisfied: frozenlist>=1.1.1 in c:\\users\\hp\\anaconda3\\envs\\data-science\\lib\\site-packages (from aiohttp->torch-geometric) (1.5.0)\n",
      "Requirement already satisfied: multidict<7.0,>=4.5 in c:\\users\\hp\\anaconda3\\envs\\data-science\\lib\\site-packages (from aiohttp->torch-geometric) (6.1.0)\n",
      "Requirement already satisfied: propcache>=0.2.0 in c:\\users\\hp\\anaconda3\\envs\\data-science\\lib\\site-packages (from aiohttp->torch-geometric) (0.2.0)\n",
      "Requirement already satisfied: yarl<2.0,>=1.17.0 in c:\\users\\hp\\anaconda3\\envs\\data-science\\lib\\site-packages (from aiohttp->torch-geometric) (1.18.0)\n",
      "Requirement already satisfied: async-timeout<6.0,>=4.0 in c:\\users\\hp\\anaconda3\\envs\\data-science\\lib\\site-packages (from aiohttp->torch-geometric) (5.0.1)\n",
      "Requirement already satisfied: MarkupSafe>=2.0 in c:\\users\\hp\\anaconda3\\envs\\data-science\\lib\\site-packages (from jinja2->torch-geometric) (3.0.2)\n",
      "Requirement already satisfied: charset-normalizer<4,>=2 in c:\\users\\hp\\anaconda3\\envs\\data-science\\lib\\site-packages (from requests->torch-geometric) (3.3.2)\n",
      "Requirement already satisfied: idna<4,>=2.5 in c:\\users\\hp\\anaconda3\\envs\\data-science\\lib\\site-packages (from requests->torch-geometric) (3.7)\n",
      "Requirement already satisfied: urllib3<3,>=1.21.1 in c:\\users\\hp\\anaconda3\\envs\\data-science\\lib\\site-packages (from requests->torch-geometric) (2.3.0)\n",
      "Requirement already satisfied: certifi>=2017.4.17 in c:\\users\\hp\\anaconda3\\envs\\data-science\\lib\\site-packages (from requests->torch-geometric) (2025.1.31)\n",
      "Requirement already satisfied: colorama in c:\\users\\hp\\anaconda3\\envs\\data-science\\lib\\site-packages (from tqdm->torch-geometric) (0.4.6)\n",
      "Requirement already satisfied: typing-extensions>=4.1.0 in c:\\users\\hp\\anaconda3\\envs\\data-science\\lib\\site-packages (from multidict<7.0,>=4.5->aiohttp->torch-geometric) (4.12.2)\n"
     ]
    }
   ],
   "source": [
    "!pip install torch-geometric"
   ]
  },
  {
   "cell_type": "code",
   "execution_count": 13,
   "id": "fbb2aeb2",
   "metadata": {},
   "outputs": [],
   "source": [
    "import torch\n",
    "import torch.nn as nn\n",
    "import torch.optim as optim\n",
    "import matplotlib.pyplot as plt\n",
    "\n",
    "\n",
    "device = torch.device(\"cuda\" if torch.cuda.is_available() else \"cpu\")\n",
    "plt.style.use(\"dark_background\")"
   ]
  },
  {
   "cell_type": "markdown",
   "id": "907629a4",
   "metadata": {},
   "source": [
    "## Update rule:\n",
    "\n",
    "for a single GCN layer, with $N$ nodes and $D$ features, the update rule is the following:\n",
    "$$\n",
    "H^{(l+1)} = \\sigma \\left( \\tilde{D}^{-\\frac{1}{2}} \\tilde{A} \\tilde{D}^{-\\frac{1}{2}} H^{(l)} W^{(l)} \\right)\n",
    "$$\n",
    "\n",
    "Where:\n",
    "\n",
    "$H^{(l)}$: Feature matrix of shape $(N, D)$ in layer $l$\n",
    "\n",
    "$\\tilde A = A + I$: Adjacency matrix of graph with self-loops\n",
    "\n",
    "$\\tilde D$: Degree matrix of $\\tilde A$\n",
    "\n",
    "$\\tilde D^{-\\frac{1}{2}}$: Matrix D raised to the power of $-{\\frac{1}{2}}$, for normalization purposes\n",
    "\n",
    "$W$: Learnable weight parameter\n",
    "\n",
    "$\\sigma$: The sigmoid function"
   ]
  },
  {
   "cell_type": "code",
   "execution_count": 39,
   "id": "cb4f68ba",
   "metadata": {},
   "outputs": [],
   "source": [
    "class GCNLayer(nn.Module):\n",
    "  def __init__(self, in_features, out_features, device=device):\n",
    "    super(GCNLayer, self).__init__()\n",
    "    self.W = nn.Parameter(torch.FloatTensor(in_features, out_features))\n",
    "    nn.init.xavier_uniform_(self.W)\n",
    "    \n",
    "  def forward(self, X, A):\n",
    "    A_tilde = (A + torch.eye(A.shape[0]))\n",
    "    degrees = torch.sum(A_tilde, dim=1)\n",
    "    D_inv_sqrt = torch.diag(torch.pow(degrees, -1/2))\n",
    "    normalized_adjacency = torch.mm(D_inv_sqrt, torch.mm(A_tilde, D_inv_sqrt)).to(device)\n",
    "    output = torch.mm(normalized_adjacency, X.to(device))\n",
    "    output = torch.mm(output, self.W)\n",
    "    return output"
   ]
  },
  {
   "cell_type": "code",
   "execution_count": 40,
   "id": "5b28b5bb",
   "metadata": {},
   "outputs": [],
   "source": [
    "class GCN(nn.Module):\n",
    "  def __init__(self, n_layers, n_features, out_features, n_classes, dropout, device=device):\n",
    "    super(GCN, self).__init__()\n",
    "    self.layers = nn.ModuleList()\n",
    "    self.layers.append(GCNLayer(n_features, n_hidden).to(device))\n",
    "    if n_layers > 2:\n",
    "      for _ in range(n_layers - 2):\n",
    "        self.layers.append(GCNLayer(n_hidden, n_hidden).to(device))\n",
    "    self.layers.append(GCNLayer(n_hidden, out_features).to(device))\n",
    "    self.dropout = dropout\n",
    "    \n",
    "  def forward(self, X, A):\n",
    "    hidden = self.layers[0](X, A)\n",
    "    hidden = torch.relu(hidden)\n",
    "    hidden = nn.functional.dropout(hidden, p=self.dropout, training=self.training)\n",
    "    for layer in self.layers[1:-1]:\n",
    "      hidden = layer(hidden, A)\n",
    "      hidden = torch.relu(hidden)\n",
    "      hidden = nn.functional.dropout(hidden, p=self.dropout, training=self.training)\n",
    "    hidden = self.layers[-1](hidden, A)\n",
    "    return hidden"
   ]
  },
  {
   "cell_type": "markdown",
   "id": "d00cc911",
   "metadata": {},
   "source": [
    "## Data loading (Cora dataset)"
   ]
  },
  {
   "cell_type": "code",
   "execution_count": 50,
   "id": "bf0d9081",
   "metadata": {},
   "outputs": [],
   "source": [
    "from torch_geometric.datasets import Planetoid\n",
    "\n",
    "dataset = Planetoid(root='./data', name='Cora')\n",
    "data = dataset[0]\n",
    "\n",
    "X = data.x\n",
    "edge_index = data.edge_index\n",
    "Y = data.y\n",
    "train_mask = data.train_mask\n",
    "val_mask = data.val_mask\n",
    "test_mask = data.test_mask\n",
    "\n",
    "n_nodes = data.num_nodes\n",
    "n_features = data.num_features\n",
    "n_classes = dataset.num_classes"
   ]
  },
  {
   "cell_type": "code",
   "execution_count": null,
   "id": "970b2cac",
   "metadata": {},
   "outputs": [
    {
     "data": {
      "text/plain": [
       "(2708, 1433, 7)"
      ]
     },
     "execution_count": 6,
     "metadata": {},
     "output_type": "execute_result"
    }
   ],
   "source": [
    "n_nodes, n_features, n_classes"
   ]
  },
  {
   "cell_type": "markdown",
   "id": "c7a3fb53",
   "metadata": {},
   "source": [
    "We extract the adjacency matrix $A$ from `edge_index`, which is a COO-format representation of our graph"
   ]
  },
  {
   "cell_type": "code",
   "execution_count": 24,
   "id": "d6b9dd78",
   "metadata": {},
   "outputs": [],
   "source": [
    "def edge_index_to_adj(edge_index, n_nodes):\n",
    "  A = torch.zeros((n_nodes, n_nodes))\n",
    "  A[edge_index[0], edge_index[1]] = 1\n",
    "  A[edge_index[1], edge_index[0]] = 1\n",
    "  return A"
   ]
  },
  {
   "cell_type": "code",
   "execution_count": 9,
   "id": "6cb1f2c2",
   "metadata": {},
   "outputs": [],
   "source": [
    "A = edge_index_to_adj(edge_index, n_nodes)"
   ]
  },
  {
   "cell_type": "markdown",
   "id": "46777080",
   "metadata": {},
   "source": [
    "## Model hyperparameters"
   ]
  },
  {
   "cell_type": "code",
   "execution_count": 10,
   "id": "14b89cfe",
   "metadata": {},
   "outputs": [],
   "source": [
    "n_hidden = 16\n",
    "dropout = 0.5\n",
    "lr = 0.01\n",
    "weight_decay = 5e-4\n",
    "epochs = 200\n",
    "n_layers = 2"
   ]
  },
  {
   "cell_type": "markdown",
   "id": "a56fa181",
   "metadata": {},
   "source": [
    "Two layers were used in the paper, the output is therefore given by:\n",
    "\n",
    "$$\n",
    "Z = softmax(\\hat A\\cdot ReLU(\\hat A\\cdot X\\cdot W^{(0)})\\cdot W^{(1)})\n",
    "$$\n",
    "\n",
    "Where: $\\hat A = \\tilde{D}^{-\\frac{1}{2}} \\tilde{A} \\tilde{D}^{-\\frac{1}{2}}$"
   ]
  },
  {
   "cell_type": "code",
   "execution_count": 51,
   "id": "db2060e7",
   "metadata": {},
   "outputs": [],
   "source": [
    "model = GCN(n_layers=2, n_features=n_features, out_features=n_hidden, n_classes=n_classes, dropout=dropout).to(device)\n",
    "optimizer = optim.Adam(model.parameters(), lr=lr, weight_decay=weight_decay)\n",
    "criterion = nn.CrossEntropyLoss()"
   ]
  },
  {
   "cell_type": "markdown",
   "id": "b328adae",
   "metadata": {},
   "source": [
    "## Training loop"
   ]
  },
  {
   "cell_type": "code",
   "execution_count": 52,
   "id": "76fc19e6",
   "metadata": {},
   "outputs": [
    {
     "name": "stdout",
     "output_type": "stream",
     "text": [
      "Epoch 0 - Loss: 2.7646, Accuracy: 0.0786\n",
      "Epoch 10 - Loss: 1.2360, Accuracy: 0.7143\n",
      "Epoch 20 - Loss: 0.4531, Accuracy: 0.9714\n",
      "Epoch 30 - Loss: 0.1903, Accuracy: 0.9714\n",
      "Epoch 40 - Loss: 0.1239, Accuracy: 0.9786\n",
      "Epoch 50 - Loss: 0.0728, Accuracy: 0.9786\n",
      "Epoch 60 - Loss: 0.1153, Accuracy: 0.9714\n",
      "Epoch 70 - Loss: 0.0433, Accuracy: 1.0000\n",
      "Epoch 80 - Loss: 0.0528, Accuracy: 0.9857\n",
      "Epoch 90 - Loss: 0.0540, Accuracy: 1.0000\n",
      "Epoch 100 - Loss: 0.0655, Accuracy: 0.9929\n",
      "Epoch 110 - Loss: 0.0518, Accuracy: 0.9929\n",
      "Epoch 120 - Loss: 0.0584, Accuracy: 0.9857\n",
      "Epoch 130 - Loss: 0.0414, Accuracy: 1.0000\n",
      "Epoch 140 - Loss: 0.0551, Accuracy: 0.9929\n",
      "Epoch 150 - Loss: 0.0498, Accuracy: 1.0000\n",
      "Epoch 160 - Loss: 0.0777, Accuracy: 0.9857\n",
      "Epoch 170 - Loss: 0.0588, Accuracy: 0.9857\n",
      "Epoch 180 - Loss: 0.0492, Accuracy: 0.9857\n",
      "Epoch 190 - Loss: 0.0302, Accuracy: 1.0000\n",
      "Test Loss: 0.6918, Test Accuracy: 0.7930\n"
     ]
    },
    {
     "data": {
      "image/png": "[encoded data removed]",
      "text/plain": [
       "<Figure size 1200x500 with 2 Axes>"
      ]
     },
     "metadata": {},
     "output_type": "display_data"
    }
   ],
   "source": [
    "losses = []\n",
    "accuracies = []\n",
    "Y = Y.to(device)\n",
    "\n",
    "for epoch in range(epochs):    \n",
    "    model.train()\n",
    "    optimizer.zero_grad()\n",
    "    output = model(X, A).to(device)\n",
    "    loss = criterion(output[train_mask], Y[train_mask])\n",
    "    losses.append(loss.item())\n",
    "    pred = output.argmax(dim=1)\n",
    "    correct = (pred[train_mask] == Y[train_mask]).sum().item()\n",
    "    acc = correct / train_mask.sum().item()\n",
    "    accuracies.append(acc)\n",
    "    loss.backward()\n",
    "    optimizer.step()\n",
    "\n",
    "    if epoch % 10 == 0:\n",
    "        print(f'Epoch {epoch} - Loss: {loss.item():.4f}, Accuracy: {acc:.4f}')\n",
    "\n",
    "model.eval()\n",
    "with torch.no_grad():\n",
    "    output = model(X, A)\n",
    "    loss = criterion(output[test_mask], Y[test_mask])\n",
    "    pred = output.argmax(dim=1)\n",
    "    correct = (pred[test_mask] == Y[test_mask]).sum().item()\n",
    "    acc = correct / test_mask.sum().item()\n",
    "    print(f'Test Loss: {loss.item():.4f}, Test Accuracy: {acc:.4f}')\n",
    "    \n",
    "plt.figure(figsize=(12, 5))\n",
    "plt.subplot(1, 2, 1)\n",
    "plt.plot(losses)\n",
    "plt.xlabel('Epoch')\n",
    "plt.ylabel('Loss')\n",
    "plt.title('Training Loss')\n",
    "plt.subplot(1, 2, 2)\n",
    "plt.plot(accuracies)\n",
    "plt.xlabel('Epoch')\n",
    "plt.ylabel('Accuracy')\n",
    "plt.title('Training Accuracy')\n",
    "plt.tight_layout()\n",
    "plt.show()"
   ]
  }
 ],
 "metadata": {
  "kernelspec": {
   "display_name": "data-science",
   "language": "python",
   "name": "python3"
  },
  "language_info": {
   "codemirror_mode": {
    "name": "ipython",
    "version": 3
   },
   "file_extension": ".py",
   "mimetype": "text/x-python",
   "name": "python",
   "nbconvert_exporter": "python",
   "pygments_lexer": "ipython3",
   "version": "3.10.13"
  }
 },
 "nbformat": 4,
 "nbformat_minor": 5
}
