{
 "cells": [
  {
   "cell_type": "code",
   "execution_count": 13,
   "id": "fbb2aeb2",
   "metadata": {},
   "outputs": [],
   "source": [
    "import torch\n",
    "import torch.nn as nn\n",
    "import torch.optim as optim\n",
    "import matplotlib.pyplot as plt\n",
    "\n",
    "\n",
    "device = torch.device(\"cuda\" if torch.cuda.is_available() else \"cpu\")\n",
    "plt.style.use(\"dark_background\")"
   ]
  },
  {
   "cell_type": "markdown",
   "id": "907629a4",
   "metadata": {},
   "source": [
    "## Update rule:\n",
    "\n",
    "for a single GCN layer, with $N$ nodes and $D$ features, the update rule is the following:\n",
    "$$\n",
    "H^{(l+1)} = \\sigma \\left( \\tilde{D}^{-\\frac{1}{2}} \\tilde{A} \\tilde{D}^{-\\frac{1}{2}} H^{(l)} W^{(l)} \\right)\n",
    "$$\n",
    "\n",
    "Where:\n",
    "\n",
    "$H^{(l)}$: Feature matrix of shape $(N, D)$ in layer $l$\n",
    "\n",
    "$\\tilde A = A + I$: Adjacency matrix of graph with self-loops\n",
    "\n",
    "$\\tilde D$: Degree matrix of $\\tilde A$\n",
    "\n",
    "$\\tilde D^{-\\frac{1}{2}}$: Matrix D raised to the power of $-{\\frac{1}{2}}$, for normalization purposes\n",
    "\n",
    "$W$: Learnable weight parameter\n",
    "\n",
    "$\\sigma$: The sigmoid function"
   ]
  },
  {
   "cell_type": "code",
   "execution_count": 39,
   "id": "cb4f68ba",
   "metadata": {},
   "outputs": [],
   "source": [
    "class GCNLayer(nn.Module):\n",
    "  def __init__(self, in_features, out_features, device=device):\n",
    "    super(GCNLayer, self).__init__()\n",
    "    self.W = nn.Parameter(torch.FloatTensor(in_features, out_features))\n",
    "    nn.init.xavier_uniform_(self.W)\n",
    "    \n",
    "  def forward(self, X, A):\n",
    "    A_tilde = (A + torch.eye(A.shape[0]))\n",
    "    degrees = torch.sum(A_tilde, dim=1)\n",
    "    D_inv_sqrt = torch.diag(torch.pow(degrees, -1/2))\n",
    "    normalized_adjacency = torch.mm(D_inv_sqrt, torch.mm(A_tilde, D_inv_sqrt)).to(device)\n",
    "    output = torch.mm(normalized_adjacency, X.to(device))\n",
    "    output = torch.mm(output, self.W)\n",
    "    return output"
   ]
  },
  {
   "cell_type": "code",
   "execution_count": 40,
   "id": "5b28b5bb",
   "metadata": {},
   "outputs": [],
   "source": [
    "class GCN(nn.Module):\n",
    "  def __init__(self, n_layers, n_features, out_features, n_classes, dropout, device=device):\n",
    "    super(GCN, self).__init__()\n",
    "    self.layers = nn.ModuleList()\n",
    "    self.layers.append(GCNLayer(n_features, n_hidden).to(device))\n",
    "    if n_layers > 2:\n",
    "      for _ in range(n_layers - 2):\n",
    "        self.layers.append(GCNLayer(n_hidden, n_hidden).to(device))\n",
    "    self.layers.append(GCNLayer(n_hidden, out_features).to(device))\n",
    "    self.dropout = dropout\n",
    "    \n",
    "  def forward(self, X, A):\n",
    "    hidden = self.layers[0](X, A)\n",
    "    hidden = torch.relu(hidden)\n",
    "    hidden = nn.functional.dropout(hidden, p=self.dropout, training=self.training)\n",
    "    for layer in self.layers[1:-1]:\n",
    "      hidden = layer(hidden, A)\n",
    "      hidden = torch.relu(hidden)\n",
    "      hidden = nn.functional.dropout(hidden, p=self.dropout, training=self.training)\n",
    "    hidden = self.layers[-1](hidden, A)\n",
    "    return hidden"
   ]
  },
  {
   "cell_type": "code",
   "execution_count": 6,
   "id": "f0860f37",
   "metadata": {},
   "outputs": [
    {
     "name": "stdout",
     "output_type": "stream",
     "text": [
      "Collecting torch-geometric\n",
      "  Downloading torch_geometric-2.6.1-py3-none-any.whl.metadata (63 kB)\n",
      "\u001b[2K     \u001b[90m━━━━━━━━━━━━━━━━━━━━━━━━━━━━━━━━━━━━━━━━\u001b[0m \u001b[32m63.1/63.1 kB\u001b[0m \u001b[31m2.7 MB/s\u001b[0m eta \u001b[36m0:00:00\u001b[0m\n",
      "\u001b[?25hRequirement already satisfied: aiohttp in /usr/local/lib/python3.11/dist-packages (from torch-geometric) (3.11.18)\n",
      "Requirement already satisfied: fsspec in /usr/local/lib/python3.11/dist-packages (from torch-geometric) (2025.3.2)\n",
      "Requirement already satisfied: jinja2 in /usr/local/lib/python3.11/dist-packages (from torch-geometric) (3.1.6)\n",
      "Requirement already satisfied: numpy in /usr/local/lib/python3.11/dist-packages (from torch-geometric) (1.26.4)\n",
      "Requirement already satisfied: psutil>=5.8.0 in /usr/local/lib/python3.11/dist-packages (from torch-geometric) (7.0.0)\n",
      "Requirement already satisfied: pyparsing in /usr/local/lib/python3.11/dist-packages (from torch-geometric) (3.0.9)\n",
      "Requirement already satisfied: requests in /usr/local/lib/python3.11/dist-packages (from torch-geometric) (2.32.3)\n",
      "Requirement already satisfied: tqdm in /usr/local/lib/python3.11/dist-packages (from torch-geometric) (4.67.1)\n",
      "Requirement already satisfied: aiohappyeyeballs>=2.3.0 in /usr/local/lib/python3.11/dist-packages (from aiohttp->torch-geometric) (2.6.1)\n",
      "Requirement already satisfied: aiosignal>=1.1.2 in /usr/local/lib/python3.11/dist-packages (from aiohttp->torch-geometric) (1.3.2)\n",
      "Requirement already satisfied: attrs>=17.3.0 in /usr/local/lib/python3.11/dist-packages (from aiohttp->torch-geometric) (25.3.0)\n",
      "Requirement already satisfied: frozenlist>=1.1.1 in /usr/local/lib/python3.11/dist-packages (from aiohttp->torch-geometric) (1.6.0)\n",
      "Requirement already satisfied: multidict<7.0,>=4.5 in /usr/local/lib/python3.11/dist-packages (from aiohttp->torch-geometric) (6.4.3)\n",
      "Requirement already satisfied: propcache>=0.2.0 in /usr/local/lib/python3.11/dist-packages (from aiohttp->torch-geometric) (0.3.1)\n",
      "Requirement already satisfied: yarl<2.0,>=1.17.0 in /usr/local/lib/python3.11/dist-packages (from aiohttp->torch-geometric) (1.20.0)\n",
      "Requirement already satisfied: MarkupSafe>=2.0 in /usr/local/lib/python3.11/dist-packages (from jinja2->torch-geometric) (3.0.2)\n",
      "Requirement already satisfied: mkl_fft in /usr/local/lib/python3.11/dist-packages (from numpy->torch-geometric) (1.3.8)\n",
      "Requirement already satisfied: mkl_random in /usr/local/lib/python3.11/dist-packages (from numpy->torch-geometric) (1.2.4)\n",
      "Requirement already satisfied: mkl_umath in /usr/local/lib/python3.11/dist-packages (from numpy->torch-geometric) (0.1.1)\n",
      "Requirement already satisfied: mkl in /usr/local/lib/python3.11/dist-packages (from numpy->torch-geometric) (2025.1.0)\n",
      "Requirement already satisfied: tbb4py in /usr/local/lib/python3.11/dist-packages (from numpy->torch-geometric) (2022.1.0)\n",
      "Requirement already satisfied: mkl-service in /usr/local/lib/python3.11/dist-packages (from numpy->torch-geometric) (2.4.1)\n",
      "Requirement already satisfied: charset-normalizer<4,>=2 in /usr/local/lib/python3.11/dist-packages (from requests->torch-geometric) (3.4.2)\n",
      "Requirement already satisfied: idna<4,>=2.5 in /usr/local/lib/python3.11/dist-packages (from requests->torch-geometric) (3.10)\n",
      "Requirement already satisfied: urllib3<3,>=1.21.1 in /usr/local/lib/python3.11/dist-packages (from requests->torch-geometric) (2.4.0)\n",
      "Requirement already satisfied: certifi>=2017.4.17 in /usr/local/lib/python3.11/dist-packages (from requests->torch-geometric) (2025.4.26)\n",
      "Requirement already satisfied: intel-openmp<2026,>=2024 in /usr/local/lib/python3.11/dist-packages (from mkl->numpy->torch-geometric) (2024.2.0)\n",
      "Requirement already satisfied: tbb==2022.* in /usr/local/lib/python3.11/dist-packages (from mkl->numpy->torch-geometric) (2022.1.0)\n",
      "Requirement already satisfied: tcmlib==1.* in /usr/local/lib/python3.11/dist-packages (from tbb==2022.*->mkl->numpy->torch-geometric) (1.3.0)\n",
      "Requirement already satisfied: intel-cmplr-lib-rt in /usr/local/lib/python3.11/dist-packages (from mkl_umath->numpy->torch-geometric) (2024.2.0)\n",
      "Requirement already satisfied: intel-cmplr-lib-ur==2024.2.0 in /usr/local/lib/python3.11/dist-packages (from intel-openmp<2026,>=2024->mkl->numpy->torch-geometric) (2024.2.0)\n",
      "Downloading torch_geometric-2.6.1-py3-none-any.whl (1.1 MB)\n",
      "\u001b[2K   \u001b[90m━━━━━━━━━━━━━━━━━━━━━━━━━━━━━━━━━━━━━━━━\u001b[0m \u001b[32m1.1/1.1 MB\u001b[0m \u001b[31m21.4 MB/s\u001b[0m eta \u001b[36m0:00:00\u001b[0ma \u001b[36m0:00:01\u001b[0m\n",
      "\u001b[?25hInstalling collected packages: torch-geometric\n",
      "Successfully installed torch-geometric-2.6.1\n"
     ]
    }
   ],
   "source": [
    "!pip install torch-geometric"
   ]
  },
  {
   "cell_type": "code",
   "execution_count": null,
   "id": "bf0d9081",
   "metadata": {},
   "outputs": [
    {
     "name": "stderr",
     "output_type": "stream",
     "text": [
      "Downloading https://github.com/kimiyoung/planetoid/raw/master/data/ind.cora.x\n",
      "Downloading https://github.com/kimiyoung/planetoid/raw/master/data/ind.cora.tx\n",
      "Downloading https://github.com/kimiyoung/planetoid/raw/master/data/ind.cora.allx\n",
      "Downloading https://github.com/kimiyoung/planetoid/raw/master/data/ind.cora.y\n",
      "Downloading https://github.com/kimiyoung/planetoid/raw/master/data/ind.cora.ty\n",
      "Downloading https://github.com/kimiyoung/planetoid/raw/master/data/ind.cora.ally\n",
      "Downloading https://github.com/kimiyoung/planetoid/raw/master/data/ind.cora.graph\n",
      "Downloading https://github.com/kimiyoung/planetoid/raw/master/data/ind.cora.test.index\n",
      "Processing...\n",
      "Done!\n"
     ]
    }
   ],
   "source": [
    "from torch_geometric.datasets import Planetoid\n",
    "\n",
    "dataset = Planetoid(root='./data', name='Cora')\n",
    "data = dataset[0]\n",
    "\n",
    "X = data.x\n",
    "edge_index = data.edge_index\n",
    "Y = data.y\n",
    "train_mask = data.train_mask\n",
    "val_mask = data.val_mask\n",
    "test_mask = data.test_mask\n",
    "\n",
    "n_nodes = data.num_nodes\n",
    "n_features = data.num_features\n",
    "n_classes = dataset.num_classes"
   ]
  },
  {
   "cell_type": "code",
   "execution_count": null,
   "id": "970b2cac",
   "metadata": {},
   "outputs": [
    {
     "data": {
      "text/plain": [
       "(2708, 1433, 7)"
      ]
     },
     "execution_count": 6,
     "metadata": {},
     "output_type": "execute_result"
    }
   ],
   "source": [
    "n_nodes, n_features, n_classes"
   ]
  },
  {
   "cell_type": "code",
   "execution_count": 24,
   "id": "d6b9dd78",
   "metadata": {},
   "outputs": [],
   "source": [
    "def edge_index_to_adj(edge_index, n_nodes):\n",
    "  A = torch.zeros((n_nodes, n_nodes))\n",
    "  A[edge_index[0], edge_index[1]] = 1\n",
    "  A[edge_index[1], edge_index[0]] = 1\n",
    "  return A"
   ]
  },
  {
   "cell_type": "code",
   "execution_count": 9,
   "id": "6cb1f2c2",
   "metadata": {},
   "outputs": [],
   "source": [
    "A = edge_index_to_adj(edge_index, n_nodes)"
   ]
  },
  {
   "cell_type": "code",
   "execution_count": 10,
   "id": "14b89cfe",
   "metadata": {},
   "outputs": [],
   "source": [
    "n_hidden = 16\n",
    "dropout = 0.5\n",
    "lr = 0.01\n",
    "weight_decay = 5e-4\n",
    "epochs = 200\n",
    "n_layers = 2"
   ]
  },
  {
   "cell_type": "code",
   "execution_count": 45,
   "id": "db2060e7",
   "metadata": {},
   "outputs": [],
   "source": [
    "model = GCN(n_layers=2, n_features=n_features, out_features=n_hidden, n_classes=n_classes, dropout=dropout).to(device)\n",
    "optimizer = optim.Adam(model.parameters(), lr=lr, weight_decay=weight_decay)\n",
    "criterion = nn.CrossEntropyLoss()"
   ]
  },
  {
   "cell_type": "code",
   "execution_count": 46,
   "id": "76fc19e6",
   "metadata": {},
   "outputs": [
    {
     "name": "stdout",
     "output_type": "stream",
     "text": [
      "Epoch 0 - Loss: 2.7503, Accuracy: 0.0929\n",
      "Epoch 10 - Loss: 1.2614, Accuracy: 0.7357\n",
      "Epoch 20 - Loss: 0.5220, Accuracy: 0.8929\n",
      "Epoch 30 - Loss: 0.2230, Accuracy: 0.9571\n",
      "Epoch 40 - Loss: 0.1092, Accuracy: 0.9929\n",
      "Epoch 50 - Loss: 0.0936, Accuracy: 0.9857\n",
      "Epoch 60 - Loss: 0.0745, Accuracy: 1.0000\n",
      "Epoch 70 - Loss: 0.0450, Accuracy: 0.9929\n",
      "Epoch 80 - Loss: 0.0449, Accuracy: 1.0000\n",
      "Epoch 90 - Loss: 0.0501, Accuracy: 1.0000\n",
      "Epoch 100 - Loss: 0.0495, Accuracy: 1.0000\n",
      "Epoch 110 - Loss: 0.0511, Accuracy: 0.9929\n",
      "Epoch 120 - Loss: 0.0385, Accuracy: 0.9929\n",
      "Epoch 130 - Loss: 0.0477, Accuracy: 1.0000\n",
      "Epoch 140 - Loss: 0.0570, Accuracy: 0.9857\n",
      "Epoch 150 - Loss: 0.0380, Accuracy: 0.9929\n",
      "Epoch 160 - Loss: 0.0405, Accuracy: 1.0000\n",
      "Epoch 170 - Loss: 0.0311, Accuracy: 1.0000\n",
      "Epoch 180 - Loss: 0.0461, Accuracy: 1.0000\n",
      "Epoch 190 - Loss: 0.0324, Accuracy: 1.0000\n",
      "Test Loss: 0.6365, Test Accuracy: 0.8100\n"
     ]
    },
    {
     "data": {
      "image/png": "[encoded data removed]",
      "text/plain": [
       "<Figure size 1200x500 with 2 Axes>"
      ]
     },
     "metadata": {},
     "output_type": "display_data"
    }
   ],
   "source": [
    "losses = []\n",
    "accuracies = []\n",
    "Y = Y.to(device)\n",
    "\n",
    "for epoch in range(epochs):    \n",
    "    model.train()\n",
    "    optimizer.zero_grad()\n",
    "    output = model(X, A).to(device)\n",
    "    loss = criterion(output[train_mask], Y[train_mask])\n",
    "    losses.append(loss.item())\n",
    "    pred = output.argmax(dim=1)\n",
    "    correct = (pred[train_mask] == Y[train_mask]).sum().item()\n",
    "    acc = correct / train_mask.sum().item()\n",
    "    accuracies.append(acc)\n",
    "    loss.backward()\n",
    "    optimizer.step()\n",
    "\n",
    "    if epoch % 10 == 0:\n",
    "        print(f'Epoch {epoch} - Loss: {loss.item():.4f}, Accuracy: {acc:.4f}')\n",
    "\n",
    "model.eval()\n",
    "with torch.no_grad():\n",
    "    output = model(X, A)\n",
    "    loss = criterion(output[test_mask], Y[test_mask])\n",
    "    pred = output.argmax(dim=1)\n",
    "    correct = (pred[test_mask] == Y[test_mask]).sum().item()\n",
    "    acc = correct / test_mask.sum().item()\n",
    "    print(f'Test Loss: {loss.item():.4f}, Test Accuracy: {acc:.4f}')\n",
    "    \n",
    "plt.figure(figsize=(12, 5))\n",
    "plt.subplot(1, 2, 1)\n",
    "plt.plot(losses, label='Loss')\n",
    "plt.xlabel('Epoch')\n",
    "plt.ylabel('Loss')\n",
    "plt.title('Training Loss')\n",
    "plt.subplot(1, 2, 2)\n",
    "plt.plot(accuracies, label='Accuracy')\n",
    "plt.xlabel('Epoch')\n",
    "plt.ylabel('Accuracy')\n",
    "plt.title('Training Accuracy')\n",
    "plt.legend()\n",
    "plt.tight_layout()\n",
    "plt.show()"
   ]
  }
 ],
 "metadata": {
  "kernelspec": {
   "display_name": "Python 3 (ipykernel)",
   "language": "python",
   "name": "python3"
  },
  "language_info": {
   "codemirror_mode": {
    "name": "ipython",
    "version": 3
   },
   "file_extension": ".py",
   "mimetype": "text/x-python",
   "name": "python",
   "nbconvert_exporter": "python",
   "pygments_lexer": "ipython3",
   "version": "3.11.11"
  }
 },
 "nbformat": 4,
 "nbformat_minor": 5
}
